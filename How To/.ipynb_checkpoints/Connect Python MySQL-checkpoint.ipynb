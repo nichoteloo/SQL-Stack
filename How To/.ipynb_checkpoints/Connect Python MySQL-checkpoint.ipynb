{
 "cells": [
  {
   "cell_type": "code",
   "execution_count": 35,
   "metadata": {},
   "outputs": [],
   "source": [
    "# https://medium.com/@tattwei46/how-to-use-python-with-mysql-79304bee8753"
   ]
  },
  {
   "cell_type": "code",
   "execution_count": 1,
   "metadata": {},
   "outputs": [],
   "source": [
    "import mysql.connector"
   ]
  },
  {
   "cell_type": "code",
   "execution_count": 2,
   "metadata": {},
   "outputs": [],
   "source": [
    "mydb = mysql.connector.connect(\n",
    "  host=\"localhost\",\n",
    "  user=\"root\",\n",
    "  passwd=\"\"\n",
    ")"
   ]
  },
  {
   "cell_type": "code",
   "execution_count": 5,
   "metadata": {},
   "outputs": [],
   "source": [
    "# mycursor = mydb.cursor()\n",
    "# mycursor.execute(\"CREATE DATABASE mydatabase\")"
   ]
  },
  {
   "cell_type": "code",
   "execution_count": 6,
   "metadata": {},
   "outputs": [],
   "source": [
    "## connect to database"
   ]
  },
  {
   "cell_type": "code",
   "execution_count": 7,
   "metadata": {},
   "outputs": [],
   "source": [
    "import mysql.connector\n",
    "\n",
    "mydb = mysql.connector.connect(\n",
    "  host=\"localhost\",\n",
    "  user=\"root\",\n",
    "  passwd=\"\",\n",
    "  database=\"mydatabase\"\n",
    ")"
   ]
  },
  {
   "cell_type": "code",
   "execution_count": 8,
   "metadata": {},
   "outputs": [],
   "source": [
    "mycursor = mydb.cursor()"
   ]
  },
  {
   "cell_type": "code",
   "execution_count": 11,
   "metadata": {},
   "outputs": [],
   "source": [
    "# mycursor.execute(\"CREATE TABLE customers (id INT AUTO_INCREMENT PRIMARY KEY, name VARCHAR(255), address VARCHAR(255))\")"
   ]
  },
  {
   "cell_type": "code",
   "execution_count": 12,
   "metadata": {},
   "outputs": [],
   "source": [
    "# sql = \"INSERT INTO customers (name, address) VALUES (%s, %s)\""
   ]
  },
  {
   "cell_type": "code",
   "execution_count": 13,
   "metadata": {},
   "outputs": [],
   "source": [
    "# val = (\"David\", \"California\")"
   ]
  },
  {
   "cell_type": "code",
   "execution_count": 14,
   "metadata": {},
   "outputs": [],
   "source": [
    "# mycursor.execute(sql, val)"
   ]
  },
  {
   "cell_type": "code",
   "execution_count": 15,
   "metadata": {},
   "outputs": [],
   "source": [
    "# ## di commit dulu baru muncul\n",
    "# mydb.commit()"
   ]
  },
  {
   "cell_type": "code",
   "execution_count": 16,
   "metadata": {},
   "outputs": [],
   "source": [
    "# print(mycursor.rowcount, \"record(s) inserted.\")"
   ]
  },
  {
   "cell_type": "code",
   "execution_count": 17,
   "metadata": {},
   "outputs": [],
   "source": [
    "## insert many\n",
    "val = [\n",
    "    (\"Lily\", \"California\"),\n",
    "    (\"David\", \"San Francisco\"),\n",
    "    (\"Micheal\", \"Las Vegas\"),\n",
    "    (\"Sarah\", \"New York\")\n",
    "]"
   ]
  },
  {
   "cell_type": "code",
   "execution_count": 18,
   "metadata": {},
   "outputs": [],
   "source": [
    "# mycursor.executemany(sql, val)"
   ]
  },
  {
   "cell_type": "code",
   "execution_count": 19,
   "metadata": {},
   "outputs": [],
   "source": [
    "# mydb.commit()"
   ]
  },
  {
   "cell_type": "code",
   "execution_count": 20,
   "metadata": {},
   "outputs": [],
   "source": [
    "# print(mycursor.rowcount, \"record(s) inserted.\")"
   ]
  },
  {
   "cell_type": "code",
   "execution_count": 21,
   "metadata": {},
   "outputs": [],
   "source": [
    "# ## select record\n",
    "# sql = \"SELECT * FROM customers\"\n",
    "# mycursor.execute(sql)\n",
    "# myresult = mycursor.fetchall()\n",
    "# for x in myresult:\n",
    "#     print(x)"
   ]
  },
  {
   "cell_type": "code",
   "execution_count": 22,
   "metadata": {},
   "outputs": [],
   "source": [
    "# ## fetch one\n",
    "# ## Notice how the query value is stored in separate variable. This is a technique called parameterized queries to prevent SQL injection.\n",
    "# sql = \"SELECT * FROM customers WHERE address = %s\"\n",
    "# adr = (\"California\", )"
   ]
  },
  {
   "cell_type": "code",
   "execution_count": 23,
   "metadata": {},
   "outputs": [],
   "source": [
    "# mycursor.execute(sql, adr)\n",
    "# myresult = mycursor.fetchall()\n",
    "# for x in myresult:\n",
    "#     print(x)"
   ]
  },
  {
   "cell_type": "code",
   "execution_count": 24,
   "metadata": {},
   "outputs": [],
   "source": [
    "# ## limit select \n",
    "# mycursor.execute(\"SELECT * FROM customers LIMIT 5\")\n",
    "# myresult = mycursor.fetchall()\n",
    "# for x in myresult:\n",
    "#     print(x)"
   ]
  },
  {
   "cell_type": "code",
   "execution_count": 25,
   "metadata": {},
   "outputs": [],
   "source": [
    "# ### sort record\n",
    "# sql = \"SELECT * FROM customers WHERE address = %s ORDER by name\"\n",
    "# adr = (\"California\", )\n",
    "# mycursor.execute(sql, adr)\n",
    "# myresult = mycursor.fetchall()\n",
    "# for x in myresult:\n",
    "#     print(x)"
   ]
  },
  {
   "cell_type": "code",
   "execution_count": 26,
   "metadata": {},
   "outputs": [],
   "source": [
    "# ### delete record\n",
    "# sql = \"DELETE FROM customers WHERE address = %s\"\n",
    "# adr = (\"California\", )\n",
    "# mycursor.execute(sql, adr)\n",
    "# mydb.commit()\n",
    "# print(mycursor.rowcount, \"record(s) deleted.\")"
   ]
  },
  {
   "cell_type": "code",
   "execution_count": 28,
   "metadata": {},
   "outputs": [],
   "source": [
    "# ### drop tables\n",
    "# mycursor = mydb.cursor()\n",
    "# sql = \"DROP TABLE customers\"\n",
    "# mycursor.execute(sql)"
   ]
  },
  {
   "cell_type": "code",
   "execution_count": 29,
   "metadata": {},
   "outputs": [],
   "source": [
    "# ### update record\n",
    "# mycursor = mydb.cursor()\n",
    "# sql = \"UPDATE customers SET address = %s WHERE name = %s\"\n",
    "# val = (\"California\", \"John\", )\n",
    "# mycursor.execute(sql, val)\n",
    "# mydb.commit()\n",
    "# print(mycursor.rowcount, \"record(s) updated.\")"
   ]
  },
  {
   "cell_type": "code",
   "execution_count": 30,
   "metadata": {},
   "outputs": [
    {
     "name": "stdout",
     "output_type": "stream",
     "text": [
      "3 record(s) inserted.\n"
     ]
    }
   ],
   "source": [
    "### join table\n",
    "mycursor = mydb.cursor()\n",
    "sql = \"CREATE TABLE products (id INT AUTO_INCREMENT PRIMARY KEY, name VARCHAR(255), price VARCHAR(255))\"\n",
    "mycursor.execute(sql)\n",
    "\n",
    "sql = \"INSERT INTO products (name, price) VALUES (%s, %s)\"\n",
    "val = [\n",
    "    (\"macbook\", \"2000\"),\n",
    "    (\"iphone\", \"1000\"),\n",
    "    (\"apple watch\", \"500\")\n",
    "]\n",
    "mycursor.executemany(sql, val)\n",
    "mydb.commit()\n",
    "print(mycursor.rowcount, \"record(s) inserted.\")"
   ]
  },
  {
   "cell_type": "code",
   "execution_count": 31,
   "metadata": {},
   "outputs": [
    {
     "name": "stdout",
     "output_type": "stream",
     "text": [
      "4 record(s) inserted.\n"
     ]
    }
   ],
   "source": [
    "mycursor = mydb.cursor()\n",
    "sql = \"CREATE TABLE orders (id INT AUTO_INCREMENT PRIMARY KEY, customer_id INT, product_id INT)\"\n",
    "mycursor.execute(sql)\n",
    "sql = \"INSERT INTO orders (customer_id, product_id) VALUES (%s, %s)\"\n",
    "val = [\n",
    "    (\"1\", \"1\"),\n",
    "    (\"1\", \"2\"),\n",
    "    (\"2\", \"3\"),\n",
    "    (\"3\", \"3\")\n",
    "]\n",
    "mycursor.executemany(sql, val)\n",
    "mydb.commit()\n",
    "print(mycursor.rowcount, \"record(s) inserted.\")"
   ]
  },
  {
   "cell_type": "code",
   "execution_count": 32,
   "metadata": {},
   "outputs": [],
   "source": [
    "# mycursor = mydb.cursor()\n",
    "# sql = \"SELECT \\\n",
    "#     c.name, o.id\\\n",
    "#     FROM customers c\\\n",
    "#     JOIN orders o ON c.id = o.customer_id\\\n",
    "#     \"\n",
    "# mycursor.execute(sql)\n",
    "# myresult = mycursor.fetchall()\n",
    "# for x in myresult:\n",
    "#     print(x)"
   ]
  },
  {
   "cell_type": "code",
   "execution_count": 33,
   "metadata": {},
   "outputs": [],
   "source": [
    "## Outer join\n",
    "# mycursor = mydb.cursor()\n",
    "# sql = \"SELECT \\\n",
    "#     c.name, o.id\\\n",
    "#     FROM customers c\\\n",
    "#     LEFT JOIN orders o ON c.id = o.customer_id\\\n",
    "#     \"\n",
    "# mycursor.execute(sql)\n",
    "# myresult = mycursor.fetchall()\n",
    "# for x in myresult:\n",
    "#     print(x)"
   ]
  },
  {
   "cell_type": "code",
   "execution_count": 34,
   "metadata": {},
   "outputs": [],
   "source": [
    "# ### Inner join multiple select\n",
    "# mycursor = mydb.cursor()\n",
    "# sql = \"SELECT \\\n",
    "#     o.id, c.name, p.name, p.price\\\n",
    "#     FROM orders o\\\n",
    "#     JOIN products p ON o.product_id = p.id\\\n",
    "#     JOIN customers c ON o.customer_id = c.id\"\n",
    "# mycursor.execute(sql)\n",
    "# myresult = mycursor.fetchall()\n",
    "# for x in myresult:\n",
    "#     print(x)"
   ]
  },
  {
   "cell_type": "code",
   "execution_count": null,
   "metadata": {},
   "outputs": [],
   "source": []
  }
 ],
 "metadata": {
  "kernelspec": {
   "display_name": "Python [conda env:NicolasEnv] *",
   "language": "python",
   "name": "conda-env-NicolasEnv-py"
  },
  "language_info": {
   "codemirror_mode": {
    "name": "ipython",
    "version": 3
   },
   "file_extension": ".py",
   "mimetype": "text/x-python",
   "name": "python",
   "nbconvert_exporter": "python",
   "pygments_lexer": "ipython3",
   "version": "3.7.6"
  }
 },
 "nbformat": 4,
 "nbformat_minor": 4
}
