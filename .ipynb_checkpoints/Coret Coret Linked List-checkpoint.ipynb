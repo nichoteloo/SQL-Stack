{
 "cells": [
  {
   "cell_type": "code",
   "execution_count": 33,
   "metadata": {},
   "outputs": [],
   "source": [
    "### https://stackabuse.com/linked-lists-in-detail-with-python-examples-single-linked-lists/#singlelinkedlist"
   ]
  },
  {
   "cell_type": "code",
   "execution_count": 1,
   "metadata": {},
   "outputs": [],
   "source": [
    "import math\n",
    "import os\n",
    "import random\n",
    "import re\n",
    "import sys"
   ]
  },
  {
   "cell_type": "code",
   "execution_count": 2,
   "metadata": {},
   "outputs": [],
   "source": [
    "class Node:\n",
    "    def __init__(self, data):\n",
    "        self.item = data\n",
    "        self.ref = None"
   ]
  },
  {
   "cell_type": "code",
   "execution_count": 32,
   "metadata": {},
   "outputs": [],
   "source": [
    "class LinkedList:\n",
    "    def __init__(self):\n",
    "        self.start_node = None\n",
    "        \n",
    "    def traverse_list(self):\n",
    "        if self.start_node is None:\n",
    "            print(\"List has no element\")\n",
    "            return\n",
    "        else:\n",
    "            n = self.start_node\n",
    "            while n is not None:\n",
    "                print(n.item , \" \")\n",
    "                n = n.ref\n",
    "                \n",
    "    def insert_at_start(self, data):\n",
    "        new_node = Node(data)\n",
    "        new_node.ref = self.start_node\n",
    "        self.start_node= new_node\n",
    "        \n",
    "    def insert_at_end(self, data):\n",
    "        new_node = Node(data)\n",
    "        if self.start_node is None:\n",
    "            self.start_node = new_node\n",
    "            return\n",
    "        n = self.start_node\n",
    "        while n.ref is not None:\n",
    "            n = n.ref\n",
    "        n.ref = new_node;\n",
    "        \n",
    "    def insert_after_item(self, x, data):\n",
    "        n = self.start_node\n",
    "        print(n.ref)\n",
    "        while n is not None:\n",
    "            if n.item == x:\n",
    "                break\n",
    "            n = n.ref\n",
    "        if n is None:\n",
    "            print(\"item not in the list\")\n",
    "        else:\n",
    "            new_node = Node(data)\n",
    "            new_node.ref = n.ref\n",
    "            n.ref = new_node\n",
    "            \n",
    "    def insert_before_item(self, x, data):\n",
    "        if self.start_node is None:\n",
    "            print(\"List has no element\")\n",
    "            return\n",
    "        if x == self.start_node.item:\n",
    "            new_node = Node(data)\n",
    "            new_node.ref = self.start_node\n",
    "            self.start_node = new_node\n",
    "            return\n",
    "        n = self.start_node\n",
    "        print(n.ref)\n",
    "        while n.ref is not None:\n",
    "            if n.ref.item == x:\n",
    "                break\n",
    "            n = n.ref\n",
    "        if n.ref is None:\n",
    "            print(\"item not in the list\")\n",
    "        else:\n",
    "            new_node = Node(data)\n",
    "            new_node.ref = n.ref\n",
    "            n.ref = new_node\n",
    "            \n",
    "    def insert_at_index (self, index, data):\n",
    "        if index == 1:\n",
    "            new_node = Node(data)\n",
    "            new_node.ref = self.start_node\n",
    "            self.start_node = new_node\n",
    "        i = 1\n",
    "        n = self.start_node\n",
    "        while i < index-1 and n is not None:\n",
    "            n = n.ref\n",
    "            i = i+1\n",
    "        if n is None:\n",
    "            print(\"Index out of bound\")\n",
    "        else: \n",
    "            new_node = Node(data)\n",
    "            new_node.ref = n.ref\n",
    "            n.ref = new_node\n",
    "            \n",
    "    def get_count(self):\n",
    "        if self.start_node is None:\n",
    "            return 0;\n",
    "        n = self.start_node\n",
    "        count = 0;\n",
    "        while n is not None:\n",
    "            count = count + 1\n",
    "            n = n.ref\n",
    "        return count\n",
    "    \n",
    "    def search_item(self, x):\n",
    "        if self.start_node is None:\n",
    "            print(\"List has no elements\")\n",
    "            return\n",
    "        n = self.start_node\n",
    "        while n is not None:\n",
    "            if n.item == x:\n",
    "                print(\"Item found\")\n",
    "                return True\n",
    "            n = n.ref\n",
    "        print(\"item not found\")\n",
    "        return False\n",
    "    \n",
    "    def make_new_list(self):\n",
    "        nums = int(input(\"How many nodes do you want to create: \"))\n",
    "        if nums == 0:\n",
    "            return\n",
    "        for i in range(nums):\n",
    "            value = int(input(\"Enter the value for the node:\"))\n",
    "            self.insert_at_end(value)\n",
    "            \n",
    "    def delete_at_start(self):\n",
    "        if self.start_node is None:\n",
    "            print(\"The list has no element to delete\")\n",
    "            return \n",
    "        self.start_node = self.start_node.ref\n",
    "        \n",
    "    def delete_at_end(self):\n",
    "        if self.start_node is None:\n",
    "            print(\"The list has no element to delete\")\n",
    "            return\n",
    "\n",
    "        n = self.start_node\n",
    "        while n.ref.ref is not None:\n",
    "            n = n.ref\n",
    "        n.ref = None\n",
    "        \n",
    "    def delete_element_by_value(self, x):\n",
    "        if self.start_node is None:\n",
    "            print(\"The list has no element to delete\")\n",
    "            return\n",
    "\n",
    "        # Deleting first node \n",
    "        if self.start_node.item == x:\n",
    "            self.start_node = self.start_node.ref\n",
    "            return\n",
    "\n",
    "        n = self.start_node\n",
    "        while n.ref is not None:\n",
    "            if n.ref.item == x:\n",
    "                break\n",
    "            n = n.ref\n",
    "\n",
    "        if n.ref is None:\n",
    "            print(\"item not found in the list\")\n",
    "        else:\n",
    "            n.ref = n.ref.ref\n",
    "            \n",
    "    def reverse_linkedlist(self):\n",
    "        prev = None\n",
    "        n = self.start_node\n",
    "        while n is not None:\n",
    "            next = n.ref\n",
    "            n.ref = prev\n",
    "            prev = n\n",
    "            n = next\n",
    "        self.start_node = prev"
   ]
  },
  {
   "cell_type": "code",
   "execution_count": 23,
   "metadata": {},
   "outputs": [],
   "source": [
    "new_linked_list = LinkedList()"
   ]
  },
  {
   "cell_type": "code",
   "execution_count": 24,
   "metadata": {},
   "outputs": [],
   "source": [
    "new_linked_list.insert_at_end(5)\n",
    "new_linked_list.insert_at_end(10)\n",
    "new_linked_list.insert_at_end(15)"
   ]
  },
  {
   "cell_type": "code",
   "execution_count": 25,
   "metadata": {},
   "outputs": [],
   "source": [
    "new_linked_list.insert_at_start(20)"
   ]
  },
  {
   "cell_type": "code",
   "execution_count": 26,
   "metadata": {},
   "outputs": [
    {
     "name": "stdout",
     "output_type": "stream",
     "text": [
      "<__main__.Node object at 0x000001A70DF08CC8>\n"
     ]
    }
   ],
   "source": [
    "new_linked_list.insert_after_item(10, 17)"
   ]
  },
  {
   "cell_type": "code",
   "execution_count": 27,
   "metadata": {},
   "outputs": [
    {
     "name": "stdout",
     "output_type": "stream",
     "text": [
      "<__main__.Node object at 0x000001A70DF08CC8>\n"
     ]
    }
   ],
   "source": [
    "new_linked_list.insert_before_item(17, 25)"
   ]
  },
  {
   "cell_type": "code",
   "execution_count": 28,
   "metadata": {},
   "outputs": [],
   "source": [
    "new_linked_list.insert_at_index(3,8)"
   ]
  },
  {
   "cell_type": "code",
   "execution_count": 29,
   "metadata": {},
   "outputs": [
    {
     "name": "stdout",
     "output_type": "stream",
     "text": [
      "20  \n",
      "5  \n",
      "8  \n",
      "10  \n",
      "25  \n",
      "17  \n",
      "15  \n"
     ]
    }
   ],
   "source": [
    "new_linked_list.traverse_list()"
   ]
  },
  {
   "cell_type": "code",
   "execution_count": 30,
   "metadata": {},
   "outputs": [
    {
     "data": {
      "text/plain": [
       "7"
      ]
     },
     "execution_count": 30,
     "metadata": {},
     "output_type": "execute_result"
    }
   ],
   "source": [
    "new_linked_list.get_count()"
   ]
  },
  {
   "cell_type": "code",
   "execution_count": null,
   "metadata": {},
   "outputs": [],
   "source": [
    "new_linked_list.search_item(5)"
   ]
  }
 ],
 "metadata": {
  "kernelspec": {
   "display_name": "Python [conda env:NicolasEnv] *",
   "language": "python",
   "name": "conda-env-NicolasEnv-py"
  },
  "language_info": {
   "codemirror_mode": {
    "name": "ipython",
    "version": 3
   },
   "file_extension": ".py",
   "mimetype": "text/x-python",
   "name": "python",
   "nbconvert_exporter": "python",
   "pygments_lexer": "ipython3",
   "version": "3.7.6"
  }
 },
 "nbformat": 4,
 "nbformat_minor": 4
}
